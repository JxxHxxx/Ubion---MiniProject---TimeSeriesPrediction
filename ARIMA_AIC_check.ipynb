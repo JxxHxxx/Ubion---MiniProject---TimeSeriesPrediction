                             ARIMA Model Results                              
==============================================================================
Dep. Variable:               D2.Close   No. Observations:                 1171
Model:                 ARIMA(1, 2, 1)   Log Likelihood               -2178.590
Method:                       css-mle   S.D. of innovations              1.550
Date:                Thu, 02 Sep 2021   AIC                           4365.180
Time:                        11:06:57   BIC                           4385.442
Sample:                             2   HQIC                          4372.822
                                                                              
==============================================================================
                             ARIMA Model Results                              
==============================================================================
Dep. Variable:               D2.Close   No. Observations:                 1171
Model:                 ARIMA(1, 2, 2)   Log Likelihood               -2178.334
Method:                       css-mle   S.D. of innovations              1.550
Date:                Thu, 02 Sep 2021   AIC                           4366.668
Time:                        11:06:58   BIC                           4391.996
Sample:                             2   HQIC                          4376.221
                                                                              
==============================================================================
                             ARIMA Model Results                              
==============================================================================
Dep. Variable:               D2.Close   No. Observations:                 1171
Model:                 ARIMA(1, 2, 3)   Log Likelihood               -2178.676
Method:                       css-mle   S.D. of innovations              1.550
Date:                Thu, 02 Sep 2021   AIC                           4369.352
Time:                        11:06:59   BIC                           4399.745
Sample:                             2   HQIC                          4380.815
                                                                              
==============================================================================
                             ARIMA Model Results                              
==============================================================================
Dep. Variable:               D2.Close   No. Observations:                 1171
Model:                 ARIMA(2, 2, 1)   Log Likelihood               -2178.454
Method:                       css-mle   S.D. of innovations              1.550
Date:                Thu, 02 Sep 2021   AIC                           4366.908
Time:                        11:06:59   BIC                           4392.236
Sample:                             2   HQIC                          4376.460
                                                                              
==============================================================================
                             ARIMA Model Results                              
==============================================================================
Dep. Variable:               D2.Close   No. Observations:                 1171
Model:                 ARIMA(2, 2, 2)   Log Likelihood               -2178.553
Method:                       css-mle   S.D. of innovations              1.551
Date:                Thu, 02 Sep 2021   AIC                           4369.107
Time:                        11:07:00   BIC                           4399.501
Sample:                             2   HQIC                          4380.570
                                                                              
==============================================================================
                             ARIMA Model Results                              
==============================================================================
Dep. Variable:               D2.Close   No. Observations:                 1171
Model:                 ARIMA(2, 2, 3)   Log Likelihood               -2165.671
Method:                       css-mle   S.D. of innovations              1.533
Date:                Thu, 02 Sep 2021   AIC                           4345.342
Time:                        11:07:02   BIC                           4380.801
Sample:                             2   HQIC                          4358.715
                                                                              
==============================================================================
                             ARIMA Model Results                              
==============================================================================
Dep. Variable:               D2.Close   No. Observations:                 1171
Model:                 ARIMA(3, 2, 1)   Log Likelihood               -2177.867
Method:                       css-mle   S.D. of innovations              1.549
Date:                Thu, 02 Sep 2021   AIC                           4367.734
Time:                        11:07:04   BIC                           4398.128
Sample:                             2   HQIC                          4379.197
                                                                              
==============================================================================
                             ARIMA Model Results                              
==============================================================================
Dep. Variable:               D2.Close   No. Observations:                 1171
Model:                 ARIMA(3, 2, 2)   Log Likelihood               -2178.091
Method:                       css-mle   S.D. of innovations              1.550
Date:                Thu, 02 Sep 2021   AIC                           4370.181
Time:                        11:07:05   BIC                           4405.641
Sample:                             2   HQIC                          4383.555
                                                                              
==============================================================================
